{
 "cells": [
  {
   "cell_type": "markdown",
   "id": "6533a91e-99ee-426b-bd3b-4ca9578f52a6",
   "metadata": {},
   "source": [
    "### Using the model from the experiment that provided the best MSE value\n",
    "Look up the results in MLFlow for the best experiment and retrieve model name and MLFlow run_id, then fill them in the appropriate cells in this notebook"
   ]
  },
  {
   "cell_type": "code",
   "execution_count": null,
   "id": "18042695-fc7f-402e-aaf2-30bc7cd95bc7",
   "metadata": {},
   "outputs": [],
   "source": [
    "%run '../lib/imports.ipynb'"
   ]
  },
  {
   "cell_type": "code",
   "execution_count": null,
   "id": "3d6df785-63ce-4f84-ae45-fce19710d4ba",
   "metadata": {},
   "outputs": [],
   "source": [
    "modelTypeName = \"ResNet_valueStdScaled\""
   ]
  },
  {
   "cell_type": "code",
   "execution_count": null,
   "id": "3f48702a-0e74-466e-9604-8ff6cf9b1cc0",
   "metadata": {},
   "outputs": [],
   "source": [
    "dataColumnName = 'valueStdScaled'"
   ]
  },
  {
   "cell_type": "code",
   "execution_count": null,
   "id": "48303ebc-b113-4165-b2f3-c6caa278f126",
   "metadata": {},
   "outputs": [],
   "source": [
    "%run '../lib/utils_anomaly_detection.ipynb'"
   ]
  },
  {
   "cell_type": "code",
   "execution_count": null,
   "id": "fdc91b91-8d53-42f1-91d2-4a44eee800f8",
   "metadata": {},
   "outputs": [],
   "source": [
    "%run '../lib/model_commons.ipynb'"
   ]
  },
  {
   "cell_type": "code",
   "execution_count": null,
   "id": "93067f79-f78e-4b6c-9951-c93b84d7f9ea",
   "metadata": {
    "tags": []
   },
   "outputs": [],
   "source": [
    "from pathlib import Path\n",
    "import os, sys\n",
    "\n",
    "dataFileList = !ls ../../data/rq2-valid/*msg-w-spikes*.csv\n",
    "dataLatencyFileList =  !ls ../../data/rq2-valid/*avg-latency*.csv"
   ]
  },
  {
   "cell_type": "code",
   "execution_count": null,
   "id": "c17429d9-0c05-49be-aef7-8bb9a826674a",
   "metadata": {},
   "outputs": [],
   "source": [
    "dataFileList"
   ]
  },
  {
   "cell_type": "code",
   "execution_count": null,
   "id": "72a0d2a3-5e74-42a1-95b7-9e6cf3601721",
   "metadata": {
    "tags": []
   },
   "outputs": [],
   "source": [
    "pd.set_option('display.max_rows', 5000)\n",
    "pd.pandas.set_option('display.max_columns', None)"
   ]
  },
  {
   "cell_type": "code",
   "execution_count": null,
   "id": "90a4cb68-9117-44eb-9da7-479fc1afb9e5",
   "metadata": {},
   "outputs": [],
   "source": [
    "mlflow_run_id = '<get_the_run_id_from_MLFlow>'"
   ]
  },
  {
   "cell_type": "code",
   "execution_count": null,
   "id": "b3a7ed92-3355-4647-9673-273f466fce81",
   "metadata": {},
   "outputs": [],
   "source": [
    "model_name = '<get_the_model_name_from_MLFlow>'"
   ]
  },
  {
   "cell_type": "code",
   "execution_count": null,
   "id": "9cca1451-03f0-48ec-9832-d47022dd04ca",
   "metadata": {},
   "outputs": [],
   "source": [
    "mlflow.set_tracking_uri(MLFLOW_URI)\n",
    "mlflow.set_registry_uri(MLFLOW_URI)"
   ]
  },
  {
   "cell_type": "code",
   "execution_count": null,
   "id": "7d3a7fd9-1de8-4d24-933c-975f4b22d97d",
   "metadata": {},
   "outputs": [],
   "source": [
    "#model = mlflow.tensorflow.load_model(f'models:/{model_name}/1')\n",
    "\n",
    "model_params = mlflow.get_run(mlflow_run_id).to_dictionary()['data']['params']"
   ]
  },
  {
   "cell_type": "code",
   "execution_count": null,
   "id": "d6d6c612-07bb-444e-a72e-4528c9a9220f",
   "metadata": {},
   "outputs": [],
   "source": [
    "model_params"
   ]
  },
  {
   "cell_type": "code",
   "execution_count": null,
   "id": "9b39c914-48d7-4bd3-969e-745fdf6de5cb",
   "metadata": {},
   "outputs": [],
   "source": [
    "T = int(model_params['time_window'])"
   ]
  },
  {
   "cell_type": "code",
   "execution_count": null,
   "id": "56c4957e-ab13-4ec4-9b8e-3f8b20c3ab67",
   "metadata": {},
   "outputs": [],
   "source": [
    "####\n",
    "# Set the target environment to cluster or local. Default is local\n",
    "####\n",
    "run_local = True"
   ]
  },
  {
   "cell_type": "code",
   "execution_count": null,
   "id": "d0d9c9f0-f70e-4a04-9428-bf58c03550ed",
   "metadata": {},
   "outputs": [],
   "source": [
    "if run_local == False:\n",
    "    print(\"Running on Cluster\")\n",
    "    from codeflare_sdk import TokenAuthentication\n",
    "    from codeflare_sdk import generate_cert\n",
    "    \n",
    "    auth = TokenAuthentication(\n",
    "        token = \"<your_access_token>\", # execute ocp whoami -t on the authenticated cluster to obtain the token\n",
    "        server = \"<OCP cluster API URL>\",\n",
    "        skip_tls = True\n",
    "    )\n",
    "    auth.login()\n",
    "    \n",
    "    # Create required TLS cert and export the environment variables to enable TLS\n",
    "    generate_cert.generate_tls_cert('raycluster-complete', 'raycluster')\n",
    "    generate_cert.export_env('raycluster-complete', 'raycluster')\n",
    "    \n",
    "    ray_endpoint = 'ray://raycluster-complete-head-svc.raycluster.svc.cluster.local:10001' # ensure your ray cluster URL is correct\n",
    "    ray.shutdown()\n",
    "    ray.init(address=ray_endpoint, logging_level=logging.ERROR, log_to_driver=False)\n",
    "else:\n",
    "    ray.shutdown()\n",
    "    ray.init()    "
   ]
  },
  {
   "cell_type": "code",
   "execution_count": null,
   "id": "4d38f8cc-ee67-4ab2-b395-fe2659e04f11",
   "metadata": {
    "tags": []
   },
   "outputs": [],
   "source": [
    "results_trials = {}\n",
    "for filePos in range(len(dataFileList)):\n",
    "    \n",
    "    data = pd.read_csv(dataFileList[filePos], index_col='EventDateTime', parse_dates=['EventDateTime'])\n",
    "    dataLatency = pd.read_csv(dataLatencyFileList[filePos], index_col='EventDateTime', parse_dates=['EventDateTime'])\n",
    "    print(f'Processing files at position {filePos} in list')\n",
    "    %run '../lib/prepareDataSet.ipynb'\n",
    "\n",
    "    trial_fname = os.path.basename(dataFileList[filePos])\n",
    "    results_predict_ahead = {}\n",
    "    for predict_ahead in [5, 10, 15, 30, 45, 60, 90, 120]:\n",
    "        res = run_new_data_evaluation.remote(model_name, mlflow_run_id, T, predict_ahead, trial_fname)\n",
    "        tag = f'predict_ahead_{predict_ahead}-trial_{trial_fname}'\n",
    "        results_predict_ahead[tag] = res\n",
    "        \n",
    "    results_trials[trial_fname] = results_predict_ahead    "
   ]
  },
  {
   "cell_type": "code",
   "execution_count": null,
   "id": "c3784c92-cc64-4e67-8fe5-9c057795063f",
   "metadata": {},
   "outputs": [],
   "source": [
    "results_trials"
   ]
  },
  {
   "cell_type": "code",
   "execution_count": null,
   "id": "9f2001e0-b7f3-4ec5-a71f-df66a188e86c",
   "metadata": {},
   "outputs": [],
   "source": [
    "data_trials = {}\n",
    "for trial in results_trials.keys():\n",
    "    data_trial = {}\n",
    "    for item in results_trials[trial].keys():\n",
    "        try:\n",
    "            res = ray.get(results_trials[trial][item])\n",
    "        except:\n",
    "            print(f'Error getting results for key:{item}')\n",
    "            res = None\n",
    "        data_trial[item] = res\n",
    "        \n",
    "    data_trials[trial] = data_trial"
   ]
  },
  {
   "cell_type": "code",
   "execution_count": null,
   "id": "e7b8d6f4-44c3-4b06-86f3-56d3a99f9ace",
   "metadata": {
    "scrolled": true
   },
   "outputs": [],
   "source": [
    "data_trials"
   ]
  },
  {
   "cell_type": "code",
   "execution_count": null,
   "id": "3ea0d1ed-e2c9-4a45-85e0-c9892954ddc6",
   "metadata": {},
   "outputs": [],
   "source": [
    "ray.shutdown()"
   ]
  },
  {
   "cell_type": "code",
   "execution_count": null,
   "id": "80b3702c-2888-4ea4-8ae9-63b383fc0094",
   "metadata": {},
   "outputs": [],
   "source": [
    "def find_best_result():\n",
    "    min_mse = 1000\n",
    "    tag = ''\n",
    "    result = {}\n",
    "    for trial in data_trials.keys():\n",
    "        crt_trial = data_trials[trial]\n",
    "        for predict_ahead in crt_trial.keys():\n",
    "            crt_one_step = crt_trial[predict_ahead]['one_step_metrics']\n",
    "            if crt_one_step['mse_1Step'] < min_mse:\n",
    "                min_mse = crt_one_step['mse_1Step']\n",
    "                tag = str(predict_ahead) + '-' + str(trial)\n",
    "                result = crt_trial[predict_ahead]\n",
    "\n",
    "    return result, tag\n",
    "                "
   ]
  },
  {
   "cell_type": "code",
   "execution_count": null,
   "id": "d1602176-836d-4e82-83cb-e93b473b3ce0",
   "metadata": {},
   "outputs": [],
   "source": [
    "find_best_result()"
   ]
  },
  {
   "cell_type": "code",
   "execution_count": null,
   "id": "1fa7a062-239d-4ff2-bdac-9f4d217aab2d",
   "metadata": {},
   "outputs": [],
   "source": []
  }
 ],
 "metadata": {
  "kernelspec": {
   "display_name": "TF-CPU",
   "language": "python",
   "name": "tf-cpu"
  },
  "language_info": {
   "codemirror_mode": {
    "name": "ipython",
    "version": 3
   },
   "file_extension": ".py",
   "mimetype": "text/x-python",
   "name": "python",
   "nbconvert_exporter": "python",
   "pygments_lexer": "ipython3",
   "version": "3.10.12"
  }
 },
 "nbformat": 4,
 "nbformat_minor": 5
}
