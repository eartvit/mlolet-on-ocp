{
 "cells": [
  {
   "cell_type": "code",
   "execution_count": 14,
   "id": "ebd5886e-3dec-43e8-a8a1-2b6516af25cc",
   "metadata": {},
   "outputs": [],
   "source": [
    "#resample data to 1s\n",
    "dataFrameLatency = dataLatency.resample('1s').ffill()\n",
    "dataFrame = data.resample('1s').ffill()"
   ]
  },
  {
   "cell_type": "code",
   "execution_count": 16,
   "id": "68390ba6-1fec-487e-8dce-12e3ec6adc45",
   "metadata": {
    "tags": []
   },
   "outputs": [],
   "source": [
    "np.random.seed(100)"
   ]
  },
  {
   "cell_type": "code",
   "execution_count": 17,
   "id": "db6a4ee6-34eb-42bb-9536-623627627b00",
   "metadata": {
    "tags": []
   },
   "outputs": [],
   "source": [
    "stdScaler = StandardScaler()\n",
    "minMaxScaler = MinMaxScaler()"
   ]
  },
  {
   "cell_type": "code",
   "execution_count": 18,
   "id": "e7cbd0f4-e353-42e6-a591-472700c70e16",
   "metadata": {},
   "outputs": [],
   "source": [
    "stdScalerLatency = StandardScaler()\n",
    "minMaxScalerLatency = MinMaxScaler()"
   ]
  },
  {
   "cell_type": "code",
   "execution_count": 19,
   "id": "480ae688-1219-40a0-94d5-63839a1e7477",
   "metadata": {},
   "outputs": [],
   "source": [
    "# Using 3/4 of the data for training\n",
    "N = (dataFrame.shape[0]*3)//4\n",
    "D = 1"
   ]
  },
  {
   "cell_type": "code",
   "execution_count": 20,
   "id": "3fac9ce4-3879-4e3c-ad7f-381ce93e8bdd",
   "metadata": {},
   "outputs": [],
   "source": [
    "stdScaler.fit(np.array(dataFrame['value'][:N]).reshape(-1,1))\n",
    "stdScalerLatency.fit(np.array(dataFrameLatency['value'][:N]).reshape(-1,1))\n",
    "\n",
    "dataFrame['valueStdScaled'] = dataFrame.apply(lambda row: stdScaler.transform(np.array(row['value']).reshape(-1,1)), \n",
    "                                                         axis = 1)\n",
    "# flatten out the scaled values to match required shape for NN model.fit\n",
    "dataFrame['valueStdScaled'] = dataFrame.apply(lambda row: row['valueStdScaled'][0][0], axis = 1)\n",
    "\n",
    "dataFrameLatency['valueStdScaled'] = dataFrameLatency.apply(lambda row: stdScalerLatency.transform(np.array(row['value']).reshape(-1,1)), \n",
    "                                                         axis = 1)\n",
    "# flatten out the scaled values to match required shape for NN model.fit\n",
    "dataFrameLatency['valueStdScaled'] = dataFrameLatency.apply(lambda row: row['valueStdScaled'][0][0], axis = 1)"
   ]
  },
  {
   "cell_type": "code",
   "execution_count": 21,
   "id": "9945fac0-d076-4410-b29f-74c9ae2db130",
   "metadata": {
    "tags": []
   },
   "outputs": [],
   "source": [
    "minMaxScaler.fit(np.array(dataFrame['value'][:N]).reshape(-1,1))\n",
    "minMaxScalerLatency.fit(np.array(dataFrameLatency['value'][:N]).reshape(-1,1))\n",
    "\n",
    "dataFrame['valueMinMaxScaled'] = dataFrame.apply(lambda row: minMaxScaler.transform(np.array(row['value']).reshape(-1,1)), \n",
    "                                                            axis = 1)\n",
    "# flatten out the scaled values to match required shape for NN model.fit\n",
    "dataFrame['valueMinMaxScaled'] = dataFrame.apply(lambda row: row['valueMinMaxScaled'][0][0], axis = 1)\n",
    "\n",
    "dataFrameLatency['valueMinMaxScaled'] = dataFrameLatency.apply(lambda row: minMaxScalerLatency.transform(np.array(row['value']).reshape(-1,1)), \n",
    "                                                            axis = 1)\n",
    "# flatten out the scaled values to match required shape for NN model.fit\n",
    "dataFrameLatency['valueMinMaxScaled'] = dataFrameLatency.apply(lambda row: row['valueMinMaxScaled'][0][0], axis = 1)"
   ]
  },
  {
   "cell_type": "code",
   "execution_count": 23,
   "id": "c8faa035-0d28-4df9-a3ae-6f35e78527cd",
   "metadata": {
    "tags": []
   },
   "outputs": [],
   "source": [
    "dataFrame_train = dataFrame[dataColumnName][:N]\n",
    "dataFrameLatency_train = dataFrameLatency[dataColumnName][:N]\n",
    "dataFrame_test = dataFrame[dataColumnName][N:]\n",
    "dataFrameLatency_test = dataFrameLatency[dataColumnName][N:]"
   ]
  },
  {
   "cell_type": "code",
   "execution_count": 28,
   "id": "a7e9faaa-97f8-482d-a058-07558a69446f",
   "metadata": {
    "tags": []
   },
   "outputs": [],
   "source": [
    "# The data for NN must be in NxTxD format. In this case D=1, since we have a single feature\n",
    "def formatData(X, Y, series, T, D):\n",
    "    for t in range(len(series) - T):\n",
    "        x = series.iloc[t:t+T]\n",
    "        X.append(x)\n",
    "        y = series.iloc[t+T]\n",
    "        Y.append(y)\n",
    "    \n",
    "    X = np.array(X).reshape(-1, T, D) # Now the data should be N x T x D\n",
    "    Y = np.array(Y)\n",
    "    \n",
    "    return (X, Y)"
   ]
  },
  {
   "cell_type": "code",
   "execution_count": 29,
   "id": "dea7e171-fb34-45a1-a316-dee131470dc8",
   "metadata": {
    "tags": []
   },
   "outputs": [],
   "source": [
    "#We only need one subset formatted to the size NxTxD for each experiment!\n",
    "\n",
    "def prepare_dataset(data, T):\n",
    "    '''\n",
    "    The config is ther params space dictionary.\n",
    "    The data is the Series of selected column(s) from the input dataframe, e.g. dataFrame['valueStdScaled'], or dataFrameLatency['valueMinMaxScaled'], etc.\n",
    "    '''\n",
    "    x_train = []\n",
    "    y_train = []\n",
    "    x_test = []\n",
    "    y_test = []\n",
    "    \n",
    "    (x_train, y_train) = formatData(x_train, y_train, data.iloc[:N], T, D)\n",
    "    (x_test, y_test) = formatData(x_test, y_test, data.iloc[N:], T, D)   \n",
    "    \n",
    "    x_train = np.asarray(x_train).astype(np.float64)\n",
    "    y_train = np.asarray(y_train).astype(np.float64)\n",
    "    x_test = np.asarray(x_test).astype(np.float64)\n",
    "    y_test = np.asarray(y_test).astype(np.float64)    \n",
    "\n",
    "    return (x_train, y_train, x_test, y_test)"
   ]
  }
 ],
 "metadata": {
  "kernelspec": {
   "display_name": "TF-CPU",
   "language": "python",
   "name": "tf-cpu"
  },
  "language_info": {
   "codemirror_mode": {
    "name": "ipython",
    "version": 3
   },
   "file_extension": ".py",
   "mimetype": "text/x-python",
   "name": "python",
   "nbconvert_exporter": "python",
   "pygments_lexer": "ipython3",
   "version": "3.10.12"
  }
 },
 "nbformat": 4,
 "nbformat_minor": 5
}
