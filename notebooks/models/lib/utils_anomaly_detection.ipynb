{
 "cells": [
  {
   "cell_type": "code",
   "execution_count": 1,
   "id": "c3c6d3f1-73ce-4b6e-82b0-4902af7db542",
   "metadata": {},
   "outputs": [],
   "source": [
    "if 'np' not in globals():\n",
    "    import numpy as np"
   ]
  },
  {
   "cell_type": "code",
   "execution_count": 5,
   "id": "2e15855a-2cfb-40c7-98e8-740c5399ea75",
   "metadata": {},
   "outputs": [],
   "source": [
    "def calculate_absolute_prediction_errors(y_true, y_pred):\n",
    "    errors = abs(y_pred.flatten() - y_true.flatten())\n",
    "    return errors"
   ]
  },
  {
   "cell_type": "code",
   "execution_count": 3,
   "id": "174ff92e-89c7-42cf-88cd-43dd90b81e2a",
   "metadata": {},
   "outputs": [],
   "source": [
    "def calculate_squared_prediction_errors(y_true, y_pred):\n",
    "    errors = np.square(y_pred.flatten() - y_true.flatten())\n",
    "    return errors"
   ]
  },
  {
   "cell_type": "code",
   "execution_count": 1,
   "id": "bfb4949d-f031-4aba-ba35-59526545ad8b",
   "metadata": {},
   "outputs": [],
   "source": [
    "def calculate_3sigma_threshold(data):\n",
    "    upper_err_threshold = np.mean(data) + 3 * np.std(data)\n",
    "    lower_err_threshold = np.mean(data) - 3 * np.std(data)\n",
    "    return (lower_err_threshold, upper_err_threshold)"
   ]
  },
  {
   "cell_type": "code",
   "execution_count": null,
   "id": "9c788ae1-efd8-4294-9d52-9134a30c7e5b",
   "metadata": {},
   "outputs": [],
   "source": [
    "def calculate_3sigma_anomalies(data, lo_3sigma, up_3sigma):\n",
    "    # lo_test, up_test = calculate_3sigma_threshold(data)\n",
    "    anomalies = [(value > up_3sigma or value < lo_3sigma) for value in data]\n",
    "    anomalies = np.array(anomalies)\n",
    "    return anomalies"
   ]
  },
  {
   "cell_type": "code",
   "execution_count": 3,
   "id": "a8b96cdd-0932-4f98-adb7-40e230455a57",
   "metadata": {},
   "outputs": [],
   "source": [
    "def calculate_zscore_anomalies(data):\n",
    "    '''\n",
    "        Z-score points measure how far in terms of std deviation a data point is away from the mean of the dataset\n",
    "        Any point above 3 or below -3 means that it is more than 3 standard deviations away from the mean\n",
    "    '''\n",
    "    anomalies = np.zeros(data.shape)\n",
    "    z_scores = np.zeros(data.shape)\n",
    "\n",
    "    try:\n",
    "        std_dev = np.std(data)\n",
    "        if std_dev==0 or np.isna(std_dev) or std_dev==np.inf:\n",
    "            std_dev=1 # doing what scikit-learn does when std==0\n",
    "            \n",
    "        z_scores = ((data-np.mean(data))/std_dev)/ std_dev\n",
    "        anomalies = np.array([(value >= 3 or value <= -3) for value in z_scores])\n",
    "    except:\n",
    "        pass\n",
    "    \n",
    "    return anomalies, z_scores"
   ]
  },
  {
   "cell_type": "code",
   "execution_count": 5,
   "id": "95077f37-8d33-49b3-b8f1-a47aeb991e3f",
   "metadata": {},
   "outputs": [],
   "source": [
    "def calculate_modified_zscore_anomalies(data):\n",
    "    '''\n",
    "        Z-score points measure how far in terms of std deviation a data point is away from the median of the dataset\n",
    "        Any point above 3 or below -3 means that it is more than 3 standard deviations away from the median\n",
    "    '''\n",
    "    anomalies = np.zeros(data.shape)\n",
    "    mod_z_scores = np.zeros(data.shape)\n",
    "    try:\n",
    "        median = np.median(data)\n",
    "        deviations = data - median\n",
    "        mad = np.median(np.abs(deviations))\n",
    "        \n",
    "        mean_dev = np.mean(deviations)\n",
    "        if mean_dev==0 or np.isna(mean_dev) or mean_dev == np.inf:\n",
    "            mean_dev = 1 # doing what scikit-learn does when std==0\n",
    "        \n",
    "        k_mad = 1.4826\n",
    "        k_meanAD = 1.253314 #https://www.ibm.com/docs/en/cognos-analytics/11.1.0?topic=terms-modified-z-score\n",
    "        \n",
    "        if mad==0:\n",
    "            mod_z_scores = deviations/(k_meanAD * mean_dev)\n",
    "        else:\n",
    "            mod_z_scores = deviations/(k_mad*mad)\n",
    "        \n",
    "        anomalies = np.array([(value >= 3 or value <= -3) for value in mod_z_scores])\n",
    "    except:\n",
    "        pass\n",
    "        \n",
    "    return anomalies, mod_z_scores"
   ]
  },
  {
   "cell_type": "code",
   "execution_count": 3,
   "id": "582ed99d-2ef0-4965-bfa4-6c7c4d5c2af2",
   "metadata": {},
   "outputs": [],
   "source": [
    "def calculate_absolute_prediction_errors2(y_true, y_pred):\n",
    "    errors = abs(y_pred - y_true)\n",
    "    return errors"
   ]
  },
  {
   "cell_type": "code",
   "execution_count": 2,
   "id": "17ead332-514b-4ba1-84e3-85042798951d",
   "metadata": {},
   "outputs": [],
   "source": [
    "def calculate_squared_prediction_errors2(y_true, y_pred):\n",
    "    errors = np.square(y_pred - y_true)\n",
    "    return errors"
   ]
  },
  {
   "cell_type": "code",
   "execution_count": null,
   "id": "527cc650-fa54-4f40-9c91-61abfb442ed0",
   "metadata": {},
   "outputs": [],
   "source": [
    "# AIC calculation taken fromhttps://ieeexplore.ieee.org/document/1100705\n",
    "def calculate_aic(n, mse, num_params):\n",
    "    aic = 0\n",
    "    try:\n",
    "        aic = n * np.log(mse) + 2 * num_params\n",
    "    except: aic = 0\n",
    "    return aic"
   ]
  }
 ],
 "metadata": {
  "kernelspec": {
   "display_name": "TF2-CPU",
   "language": "python",
   "name": "tf2-cpu"
  },
  "language_info": {
   "codemirror_mode": {
    "name": "ipython",
    "version": 3
   },
   "file_extension": ".py",
   "mimetype": "text/x-python",
   "name": "python",
   "nbconvert_exporter": "python",
   "pygments_lexer": "ipython3",
   "version": "3.10.12"
  }
 },
 "nbformat": 4,
 "nbformat_minor": 5
}
