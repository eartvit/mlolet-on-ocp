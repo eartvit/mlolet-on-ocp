{
 "cells": [
  {
   "cell_type": "code",
   "execution_count": null,
   "id": "71fd0468-6aec-44b6-b25c-41f4e33d2161",
   "metadata": {},
   "outputs": [],
   "source": [
    "%run '../lib/imports.ipynb'"
   ]
  },
  {
   "cell_type": "code",
   "execution_count": null,
   "id": "ad016c2b-308b-4062-9b6d-2fe45b53436a",
   "metadata": {},
   "outputs": [],
   "source": [
    "modelTypeName = \"LSTM_Bi_valueStdScaled\""
   ]
  },
  {
   "cell_type": "code",
   "execution_count": null,
   "id": "481ead78-6a6e-405c-b8b3-64e5622226c1",
   "metadata": {},
   "outputs": [],
   "source": [
    "dataColumnName = 'valueStdScaled'"
   ]
  },
  {
   "cell_type": "code",
   "execution_count": null,
   "id": "e14e90dc-2eb7-430d-b456-e34e7c1db2cd",
   "metadata": {},
   "outputs": [],
   "source": [
    "%run '../lib/utils_anomaly_detection.ipynb'"
   ]
  },
  {
   "cell_type": "code",
   "execution_count": null,
   "id": "55b17d5c-4253-4bf5-b0a0-7544492d4697",
   "metadata": {},
   "outputs": [],
   "source": [
    "# load datasets\n",
    "data = pd.read_csv('../../data/rq_1-3_train_test/2024-01-15_10-51-45__2024-01-15_14-26-45_load-gen-msg-w-spikes-10s-rate.csv', \n",
    "                   index_col=['EventDateTime'], parse_dates=['EventDateTime'])\n",
    "dataLatency = pd.read_csv('../../data/rq_1-3_train_test/2024-01-15_10-51-45__2024-01-15_14-26-45_load-gen-avg-latency-10s-rate.csv', \n",
    "                          index_col='EventDateTime', parse_dates=['EventDateTime'])"
   ]
  },
  {
   "cell_type": "code",
   "execution_count": null,
   "id": "b21a188d-4180-48e8-8da1-982a5dcb5ffb",
   "metadata": {},
   "outputs": [],
   "source": [
    "%run '../lib/prepareDataSet.ipynb'"
   ]
  },
  {
   "cell_type": "code",
   "execution_count": null,
   "id": "ff6173b0",
   "metadata": {},
   "outputs": [],
   "source": [
    "%run '../lib/model_commons.ipynb'"
   ]
  },
  {
   "cell_type": "code",
   "execution_count": null,
   "id": "f06133b0-d341-4719-b5e2-715ab20326df",
   "metadata": {},
   "outputs": [],
   "source": [
    "start_time = datetime.datetime.now()"
   ]
  },
  {
   "cell_type": "code",
   "execution_count": null,
   "id": "634208ab-b70c-4ef5-b984-fe0a94c29ae5",
   "metadata": {},
   "outputs": [],
   "source": [
    "def create_model(config):\n",
    "    \n",
    "    model = Sequential()\n",
    "\n",
    "    model.add(Input(shape=(config[\"T\"],1)))\n",
    "    for i in range(config[\"n_layers\"] - 1):\n",
    "        model.add(Bidirectional(LSTM(config[\"n_neurons\"], activation=config['activation'],return_sequences=True)))\n",
    "    model.add(Bidirectional(LSTM(config[\"n_neurons\"], activation=config['activation'],return_sequences=False)))\n",
    "\n",
    "    for i in range(config[\"n_dense_layers\"]-1):\n",
    "        model.add(Dense(config[\"n_neurons\"], activation=\"relu\"))\n",
    "        model.add(Dropout(rate=config[\"dense_dp\"]))\n",
    "\n",
    "    model.add(Dense(1))\n",
    "            \n",
    "    return model"
   ]
  },
  {
   "cell_type": "code",
   "execution_count": null,
   "id": "fa170db8-1f24-4fed-ab1d-f4c125e90c64",
   "metadata": {},
   "outputs": [],
   "source": [
    "####\n",
    "# Set the target environment to cluster or local. Default is local\n",
    "####\n",
    "run_local = True"
   ]
  },
  {
   "cell_type": "code",
   "execution_count": null,
   "id": "71acccd1-bb3d-4a44-8e3b-6076d2b4e51a",
   "metadata": {
    "scrolled": true
   },
   "outputs": [],
   "source": [
    "if run_local == False:\n",
    "    print(\"Running on Cluster\")\n",
    "    from codeflare_sdk import TokenAuthentication\n",
    "    from codeflare_sdk import generate_cert\n",
    "    \n",
    "    auth = TokenAuthentication(\n",
    "        token = \"<your_access_token>\", # execute ocp whoami -t on the authenticated cluster to obtain the token\n",
    "        server = \"<OCP cluster API URL>\",\n",
    "        skip_tls = True\n",
    "    )\n",
    "    auth.login()\n",
    "    \n",
    "    # Create required TLS cert and export the environment variables to enable TLS\n",
    "    generate_cert.generate_tls_cert('raycluster-complete', 'raycluster')\n",
    "    generate_cert.export_env('raycluster-complete', 'raycluster')\n",
    "    \n",
    "    ray_endpoint = 'ray://raycluster-complete-head-svc.raycluster.svc.cluster.local:10001' # ensure your ray cluster URL is correct\n",
    "    ray.shutdown()\n",
    "    ray.init(address=ray_endpoint, logging_level=logging.ERROR, log_to_driver=False)\n",
    "else:\n",
    "    ray.shutdown()\n",
    "    ray.init()    "
   ]
  },
  {
   "cell_type": "code",
   "execution_count": null,
   "id": "30b6c961-0a45-499e-8246-3ac8e2cc83ac",
   "metadata": {},
   "outputs": [],
   "source": [
    "results_lstm = tune_model(1, 10)"
   ]
  },
  {
   "cell_type": "code",
   "execution_count": null,
   "id": "bb745e82-4ebb-40ed-84fd-1df14fc2cced",
   "metadata": {},
   "outputs": [],
   "source": [
    "result = results_lstm.get_best_result()\n",
    "result"
   ]
  },
  {
   "cell_type": "code",
   "execution_count": null,
   "id": "6dda6bfd-bfb2-4bd3-86b8-2df6ebb0fcd2",
   "metadata": {},
   "outputs": [],
   "source": [
    "results_n_step_predict = {}\n",
    "# for result in results_lstm:\n",
    "try:\n",
    "    model_name = result.metrics['model_name']\n",
    "    T = result.metrics['T']\n",
    "    run_id = result.metrics['run_id']\n",
    "    for predict_ahead in [5, 10, 15, 30, 45, 60, 90, 120]: \n",
    "        res = run_n_step_evaluation.remote(model_name, run_id, T, predict_ahead)\n",
    "        tag = f'runID_{run_id}-model_{model_name}-T_{T}-p_ahead_{predict_ahead}'\n",
    "        results_n_step_predict[tag] = res\n",
    "        print(f'Scheduled job for T:{T}, predict_ahead: {predict_ahead}, model_name:{model_name}, run_id:{run_id}')    \n",
    "except:\n",
    "    print(f'ERROR scheduling job for T:{T}, predict_ahead: {predict_ahead}, model_name:{model_name}, run_id:{run_id}')"
   ]
  },
  {
   "cell_type": "code",
   "execution_count": null,
   "id": "ecbb6f34-c6cb-41de-9f04-cab69d5fdc11",
   "metadata": {
    "scrolled": true
   },
   "outputs": [],
   "source": [
    "ex_n_step = {}\n",
    "for item in results_n_step_predict.keys():\n",
    "    try:\n",
    "        res = ray.get(results_n_step_predict[item])\n",
    "    except:\n",
    "        print(f'Error getting results for key:{item}')\n",
    "        res = None\n",
    "        \n",
    "    ex_n_step[item]=res"
   ]
  },
  {
   "cell_type": "code",
   "execution_count": null,
   "id": "f4f1feed-4cf1-404f-b3f8-8d952d643a90",
   "metadata": {},
   "outputs": [],
   "source": [
    "len(ex_n_step.keys())"
   ]
  },
  {
   "cell_type": "code",
   "execution_count": null,
   "id": "fbcacf9d-2008-477d-a887-7d38290cec72",
   "metadata": {},
   "outputs": [],
   "source": [
    "ex_n_step"
   ]
  },
  {
   "cell_type": "code",
   "execution_count": null,
   "id": "09ff61e3-8f4c-43e4-866c-24d6862940dd",
   "metadata": {},
   "outputs": [],
   "source": [
    "ray.shutdown()"
   ]
  },
  {
   "cell_type": "code",
   "execution_count": null,
   "id": "ce80a94d-4a12-434f-822d-832a8eb9ad55",
   "metadata": {},
   "outputs": [],
   "source": [
    "end_time = datetime.datetime.now()"
   ]
  },
  {
   "cell_type": "code",
   "execution_count": null,
   "id": "54370e9c-fc0b-49fc-8d01-7578d25c7994",
   "metadata": {},
   "outputs": [],
   "source": [
    "time_difference = (end_time - start_time).total_seconds()"
   ]
  },
  {
   "cell_type": "code",
   "execution_count": null,
   "id": "296a525a-5dc6-4620-b738-be2edc147288",
   "metadata": {},
   "outputs": [],
   "source": [
    "print(f\"Experiment runtime was {time_difference} seconds\")"
   ]
  },
  {
   "cell_type": "code",
   "execution_count": null,
   "id": "685bafe3-6ce6-4065-b2ae-fad5047d31a4",
   "metadata": {},
   "outputs": [],
   "source": []
  }
 ],
 "metadata": {
  "kernelspec": {
   "display_name": "TF-CPU",
   "language": "python",
   "name": "tf-cpu"
  },
  "language_info": {
   "codemirror_mode": {
    "name": "ipython",
    "version": 3
   },
   "file_extension": ".py",
   "mimetype": "text/x-python",
   "name": "python",
   "nbconvert_exporter": "python",
   "pygments_lexer": "ipython3",
   "version": "3.10.12"
  }
 },
 "nbformat": 4,
 "nbformat_minor": 5
}
