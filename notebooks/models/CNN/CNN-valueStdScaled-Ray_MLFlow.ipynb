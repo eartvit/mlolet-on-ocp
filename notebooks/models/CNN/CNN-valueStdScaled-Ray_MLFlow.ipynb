{
 "cells": [
  {
   "cell_type": "code",
   "execution_count": null,
   "id": "71fd0468-6aec-44b6-b25c-41f4e33d2161",
   "metadata": {},
   "outputs": [],
   "source": [
    "%run '../lib/imports.ipynb'"
   ]
  },
  {
   "cell_type": "code",
   "execution_count": null,
   "id": "ad016c2b-308b-4062-9b6d-2fe45b53436a",
   "metadata": {},
   "outputs": [],
   "source": [
    "modelTypeName = \"CNN_valueStdScaled\""
   ]
  },
  {
   "cell_type": "code",
   "execution_count": null,
   "id": "481ead78-6a6e-405c-b8b3-64e5622226c1",
   "metadata": {},
   "outputs": [],
   "source": [
    "dataColumnName = 'valueStdScaled'"
   ]
  },
  {
   "cell_type": "code",
   "execution_count": null,
   "id": "e14e90dc-2eb7-430d-b456-e34e7c1db2cd",
   "metadata": {},
   "outputs": [],
   "source": [
    "%run '../lib/utils_anomaly_detection.ipynb'"
   ]
  },
  {
   "cell_type": "code",
   "execution_count": null,
   "id": "55b17d5c-4253-4bf5-b0a0-7544492d4697",
   "metadata": {},
   "outputs": [],
   "source": [
    "# load datasets\n",
    "data = pd.read_csv('../../data/rq_1-3_train_test/2024-01-15_10-51-45__2024-01-15_14-26-45_load-gen-msg-w-spikes-10s-rate.csv', \n",
    "                   index_col=['EventDateTime'], parse_dates=['EventDateTime'])\n",
    "dataLatency = pd.read_csv('../../data/rq_1-3_train_test/2024-01-15_10-51-45__2024-01-15_14-26-45_load-gen-avg-latency-10s-rate.csv', \n",
    "                          index_col='EventDateTime', parse_dates=['EventDateTime'])"
   ]
  },
  {
   "cell_type": "code",
   "execution_count": null,
   "id": "e6c7055f-8b8d-46e8-92ed-8dfd50e6103d",
   "metadata": {},
   "outputs": [],
   "source": [
    "%run '../lib/prepareDataSet.ipynb'"
   ]
  },
  {
   "cell_type": "code",
   "execution_count": null,
   "id": "ff6173b0",
   "metadata": {},
   "outputs": [],
   "source": [
    "%run '../lib/model_commons.ipynb'"
   ]
  },
  {
   "cell_type": "code",
   "execution_count": null,
   "id": "7c3a1d00-a921-4458-adf5-bf640c0199ea",
   "metadata": {},
   "outputs": [],
   "source": [
    "start_time = datetime.datetime.now()"
   ]
  },
  {
   "cell_type": "code",
   "execution_count": null,
   "id": "634208ab-b70c-4ef5-b984-fe0a94c29ae5",
   "metadata": {},
   "outputs": [],
   "source": [
    "def create_model(config):\n",
    "\n",
    "    model = Sequential()\n",
    "    \n",
    "    model.add(Input(shape=(config[\"T\"],1)))\n",
    "    \n",
    "    for i in range(config[\"n_layers\"]):\n",
    "        #add the Conv layers\n",
    "        model.add(Conv1D(filters=config[\"n_neurons\"], kernel_size=config[\"conv_kernel\"], \n",
    "                         strides=2, padding=\"same\", activation=\"relu\"))\n",
    "        model.add(Dropout(rate=config[\"DP\"]))\n",
    "        model.add(Conv1D(filters=config[\"n_neurons\"], kernel_size=config[\"conv_kernel\"], \n",
    "                         strides=2, padding=\"same\", activation=\"relu\"))\n",
    "        \n",
    "    if config['n_layers'] == 1:\n",
    "        model.add(MaxPooling1D(pool_size=2))\n",
    "        \n",
    "    model.add(Flatten())\n",
    "    for i in range(config[\"n_dense_layers\"]-1):\n",
    "        model.add(Dense(config[\"n_neurons\"], activation=\"relu\"))\n",
    "        model.add(Dropout(rate=config[\"dense_dp\"]))\n",
    "        \n",
    "    model.add(Dense(1))\n",
    "            \n",
    "    return model"
   ]
  },
  {
   "cell_type": "code",
   "execution_count": null,
   "id": "f169fa9c-fb0d-4fbf-9922-c32d6df2ceea",
   "metadata": {},
   "outputs": [],
   "source": [
    "####\n",
    "# Set the target environment to cluster or local. Default is local\n",
    "####\n",
    "run_local = True"
   ]
  },
  {
   "cell_type": "code",
   "execution_count": null,
   "id": "71acccd1-bb3d-4a44-8e3b-6076d2b4e51a",
   "metadata": {
    "scrolled": true
   },
   "outputs": [],
   "source": [
    "if run_local == False:\n",
    "    print(\"Running on Cluster\")\n",
    "    from codeflare_sdk import TokenAuthentication\n",
    "    from codeflare_sdk import generate_cert\n",
    "    \n",
    "    auth = TokenAuthentication(\n",
    "        token = \"<your_access_token>\", # execute ocp whoami -t on the authenticated cluster to obtain the token\n",
    "        server = \"<OCP cluster API URL>\",\n",
    "        skip_tls = True\n",
    "    )\n",
    "    auth.login()\n",
    "    \n",
    "    # Create required TLS cert and export the environment variables to enable TLS\n",
    "    generate_cert.generate_tls_cert('raycluster-complete', 'raycluster')\n",
    "    generate_cert.export_env('raycluster-complete', 'raycluster')\n",
    "    \n",
    "    ray_endpoint = 'ray://raycluster-complete-head-svc.raycluster.svc.cluster.local:10001' # ensure your ray cluster URL is correct\n",
    "    ray.shutdown()\n",
    "    ray.init(address=ray_endpoint, logging_level=logging.ERROR, log_to_driver=False)\n",
    "else:\n",
    "    ray.shutdown()\n",
    "    ray.init()    "
   ]
  },
  {
   "cell_type": "code",
   "execution_count": null,
   "id": "30b6c961-0a45-499e-8246-3ac8e2cc83ac",
   "metadata": {},
   "outputs": [],
   "source": [
    "results_cnn = tune_model(1, 10)"
   ]
  },
  {
   "cell_type": "code",
   "execution_count": null,
   "id": "bb745e82-4ebb-40ed-84fd-1df14fc2cced",
   "metadata": {},
   "outputs": [],
   "source": [
    "result = results_cnn.get_best_result()\n",
    "result"
   ]
  },
  {
   "cell_type": "code",
   "execution_count": null,
   "id": "6dda6bfd-bfb2-4bd3-86b8-2df6ebb0fcd2",
   "metadata": {
    "scrolled": true
   },
   "outputs": [],
   "source": [
    "results_n_step_predict = {}\n",
    "# for result in results_cnn:\n",
    "try:\n",
    "    model_name = result.metrics['model_name']\n",
    "    T = result.metrics['T']\n",
    "    run_id = result.metrics['run_id']\n",
    "    for predict_ahead in [5, 10, 15, 30, 45, 60, 90, 120]: \n",
    "        res = run_n_step_evaluation.remote(model_name, run_id, T, predict_ahead)\n",
    "        tag = f'runID_{run_id}-model_{model_name}-T_{T}-p_ahead_{predict_ahead}'\n",
    "        results_n_step_predict[tag] = res\n",
    "        print(f'Scheduled job for T:{T}, predict_ahead: {predict_ahead}, model_name:{model_name}, run_id:{run_id}')    \n",
    "except:\n",
    "    print(f'ERROR scheduling job for T:{T}, predict_ahead: {predict_ahead}, model_name:{model_name}, run_id:{run_id}')"
   ]
  },
  {
   "cell_type": "code",
   "execution_count": null,
   "id": "ecbb6f34-c6cb-41de-9f04-cab69d5fdc11",
   "metadata": {
    "scrolled": true
   },
   "outputs": [],
   "source": [
    "ex_n_step = {}\n",
    "for item in results_n_step_predict.keys():\n",
    "    try:\n",
    "        res = ray.get(results_n_step_predict[item])\n",
    "    except:\n",
    "        print(f'Error getting results for key:{item}')\n",
    "        res = None\n",
    "        \n",
    "    ex_n_step[item]=res"
   ]
  },
  {
   "cell_type": "code",
   "execution_count": null,
   "id": "f4f1feed-4cf1-404f-b3f8-8d952d643a90",
   "metadata": {},
   "outputs": [],
   "source": [
    "len(ex_n_step.keys())"
   ]
  },
  {
   "cell_type": "code",
   "execution_count": null,
   "id": "fbcacf9d-2008-477d-a887-7d38290cec72",
   "metadata": {},
   "outputs": [],
   "source": [
    "ex_n_step"
   ]
  },
  {
   "cell_type": "code",
   "execution_count": null,
   "id": "09ff61e3-8f4c-43e4-866c-24d6862940dd",
   "metadata": {},
   "outputs": [],
   "source": [
    "ray.shutdown()"
   ]
  },
  {
   "cell_type": "code",
   "execution_count": null,
   "id": "ce80a94d-4a12-434f-822d-832a8eb9ad55",
   "metadata": {},
   "outputs": [],
   "source": [
    "end_time = datetime.datetime.now()"
   ]
  },
  {
   "cell_type": "code",
   "execution_count": null,
   "id": "2e023b87-2f1e-4968-af81-4f11188903cc",
   "metadata": {},
   "outputs": [],
   "source": [
    "time_difference = (end_time - start_time).total_seconds()"
   ]
  },
  {
   "cell_type": "code",
   "execution_count": null,
   "id": "22a1dc28-ecb3-420c-a703-52619cf0767b",
   "metadata": {},
   "outputs": [],
   "source": [
    "print(f\"Experiment runtime was {time_difference} seconds\")"
   ]
  },
  {
   "cell_type": "code",
   "execution_count": null,
   "id": "f7db2ed8-cbbe-4714-bcdc-db075189da57",
   "metadata": {},
   "outputs": [],
   "source": []
  }
 ],
 "metadata": {
  "kernelspec": {
   "display_name": "TF-CPU",
   "language": "python",
   "name": "tf-cpu"
  },
  "language_info": {
   "codemirror_mode": {
    "name": "ipython",
    "version": 3
   },
   "file_extension": ".py",
   "mimetype": "text/x-python",
   "name": "python",
   "nbconvert_exporter": "python",
   "pygments_lexer": "ipython3",
   "version": "3.10.12"
  }
 },
 "nbformat": 4,
 "nbformat_minor": 5
}
