{
 "cells": [
  {
   "cell_type": "code",
   "execution_count": null,
   "id": "b3774915-5d37-42c4-a009-6fcb6ff10688",
   "metadata": {},
   "outputs": [],
   "source": [
    "%run '../lib/imports.ipynb'"
   ]
  },
  {
   "cell_type": "code",
   "execution_count": null,
   "id": "ad016c2b-308b-4062-9b6d-2fe45b53436a",
   "metadata": {},
   "outputs": [],
   "source": [
    "modelTypeName = \"LSTM_valueStdScaled\""
   ]
  },
  {
   "cell_type": "code",
   "execution_count": null,
   "id": "481ead78-6a6e-405c-b8b3-64e5622226c1",
   "metadata": {},
   "outputs": [],
   "source": [
    "dataColumnName = 'valueStdScaled'"
   ]
  },
  {
   "cell_type": "code",
   "execution_count": null,
   "id": "e14e90dc-2eb7-430d-b456-e34e7c1db2cd",
   "metadata": {},
   "outputs": [],
   "source": [
    "%run '../lib/utils_anomaly_detection.ipynb'"
   ]
  },
  {
   "cell_type": "code",
   "execution_count": null,
   "id": "55b17d5c-4253-4bf5-b0a0-7544492d4697",
   "metadata": {},
   "outputs": [],
   "source": [
    "# load datasets\n",
    "data = pd.read_csv('../../data/rq_1-3_train_test/2024-01-15_10-51-45__2024-01-15_14-26-45_load-gen-msg-w-spikes-10s-rate.csv', \n",
    "                   index_col=['EventDateTime'], parse_dates=['EventDateTime'])\n",
    "dataLatency = pd.read_csv('../../data/rq_1-3_train_test/2024-01-15_10-51-45__2024-01-15_14-26-45_load-gen-avg-latency-10s-rate.csv', \n",
    "                          index_col='EventDateTime', parse_dates=['EventDateTime'])"
   ]
  },
  {
   "cell_type": "code",
   "execution_count": null,
   "id": "526ed83e-8ccf-4eb7-bda1-2c31b0bd3801",
   "metadata": {},
   "outputs": [],
   "source": [
    "%run '../lib/prepareDataSet.ipynb'"
   ]
  },
  {
   "cell_type": "code",
   "execution_count": null,
   "id": "550712c1-01ac-4edd-b001-e496e4d6170b",
   "metadata": {},
   "outputs": [],
   "source": [
    "%run '../lib/model_commons.ipynb'"
   ]
  },
  {
   "cell_type": "code",
   "execution_count": null,
   "id": "8a7945cb-f258-4dc7-83a0-9058a9284bd8",
   "metadata": {},
   "outputs": [],
   "source": [
    "start_time = datetime.datetime.now()"
   ]
  },
  {
   "cell_type": "code",
   "execution_count": null,
   "id": "634208ab-b70c-4ef5-b984-fe0a94c29ae5",
   "metadata": {},
   "outputs": [],
   "source": [
    "def create_model(config):\n",
    "    \n",
    "    model = Sequential()\n",
    "\n",
    "    model.add(Input(shape=(config[\"T\"],1)))\n",
    "    for i in range(config[\"n_layers\"] - 1):\n",
    "        model.add(LSTM(config[\"n_neurons\"], activation=config['activation'],return_sequences=True))\n",
    "    model.add(LSTM(config[\"n_neurons\"], activation=config['activation'],return_sequences=False))\n",
    "\n",
    "    for i in range(config[\"n_dense_layers\"]-1):\n",
    "        model.add(Dense(config[\"n_neurons\"], activation=\"relu\"))\n",
    "        model.add(Dropout(rate=config[\"dense_dp\"]))\n",
    "\n",
    "    model.add(Dense(1))\n",
    "            \n",
    "    return model"
   ]
  },
  {
   "cell_type": "code",
   "execution_count": null,
   "id": "a0704883-ea63-47d7-9e3a-1ee09401f40e",
   "metadata": {},
   "outputs": [],
   "source": [
    "####\n",
    "# Set the target environment to cluster or local. Default is local\n",
    "####\n",
    "run_local = True"
   ]
  },
  {
   "cell_type": "code",
   "execution_count": null,
   "id": "f54370a5-8384-45de-8715-20d0752e4e9e",
   "metadata": {},
   "outputs": [],
   "source": [
    "if run_local == False:\n",
    "    print(\"Running on Cluster\")\n",
    "    from codeflare_sdk import TokenAuthentication\n",
    "    from codeflare_sdk import generate_cert\n",
    "    \n",
    "    auth = TokenAuthentication(\n",
    "        token = \"<your_access_token>\", # execute ocp whoami -t on the authenticated cluster to obtain the token\n",
    "        server = \"<OCP cluster API URL>\",\n",
    "        skip_tls = True\n",
    "    )\n",
    "    auth.login()\n",
    "    \n",
    "    # Create required TLS cert and export the environment variables to enable TLS\n",
    "    generate_cert.generate_tls_cert('raycluster-complete', 'raycluster')\n",
    "    generate_cert.export_env('raycluster-complete', 'raycluster')\n",
    "    \n",
    "    ray_endpoint = 'ray://raycluster-complete-head-svc.raycluster.svc.cluster.local:10001' # ensure your ray cluster URL is correct\n",
    "    ray.shutdown()\n",
    "    ray.init(address=ray_endpoint, logging_level=logging.ERROR, log_to_driver=False)\n",
    "else:\n",
    "    ray.shutdown()\n",
    "    ray.init()    "
   ]
  },
  {
   "cell_type": "code",
   "execution_count": null,
   "id": "30b6c961-0a45-499e-8246-3ac8e2cc83ac",
   "metadata": {},
   "outputs": [],
   "source": [
    "results_lstm = tune_model(1, 10)"
   ]
  },
  {
   "cell_type": "code",
   "execution_count": null,
   "id": "2b106af1-bdd2-4494-8642-64521e52c1f3",
   "metadata": {},
   "outputs": [],
   "source": [
    "result = results_lstm.get_best_result()\n",
    "result"
   ]
  },
  {
   "cell_type": "code",
   "execution_count": null,
   "id": "5337c4e9-f573-4adf-a1d0-771dfbbbe72d",
   "metadata": {
    "scrolled": true
   },
   "outputs": [],
   "source": [
    "results_n_step_predict = {}\n",
    "#for result in results_lstm: # by default we only check the best reported model for n-step prediction. If you want to check all, add this loop in.\n",
    "try:\n",
    "    model_name = result.metrics['model_name']\n",
    "    T = result.metrics['T']\n",
    "    run_id = result.metrics['run_id']\n",
    "    for predict_ahead in [5, 10, 15, 30, 45, 60, 90, 120]: \n",
    "        res = run_n_step_evaluation.remote(model_name, run_id, T, predict_ahead)\n",
    "        #res = run_n_step_evaluation(model_name, run_id, T, predict_ahead)\n",
    "        tag = f'runID_{run_id}-model_{model_name}-T_{T}-p_ahead_{predict_ahead}'\n",
    "        results_n_step_predict[tag] = res\n",
    "        print(f'Scheduled job for T:{T}, predict_ahead: {predict_ahead}, model_name:{model_name}, run_id:{run_id}')    \n",
    "except:\n",
    "    print(f'ERROR scheduling job for T:{T}, predict_ahead: {predict_ahead}, model_name:{model_name}, run_id:{run_id}')"
   ]
  },
  {
   "cell_type": "code",
   "execution_count": null,
   "id": "ecbb6f34-c6cb-41de-9f04-cab69d5fdc11",
   "metadata": {
    "scrolled": true
   },
   "outputs": [],
   "source": [
    "ex_n_step = {}\n",
    "for item in results_n_step_predict.keys():\n",
    "    try:\n",
    "        res = ray.get(results_n_step_predict[item])\n",
    "    except:\n",
    "        print(f'Error getting results for key:{item}')\n",
    "        res = None\n",
    "        \n",
    "    ex_n_step[item]=res"
   ]
  },
  {
   "cell_type": "code",
   "execution_count": null,
   "id": "fbcacf9d-2008-477d-a887-7d38290cec72",
   "metadata": {},
   "outputs": [],
   "source": [
    "len(ex_n_step.keys())"
   ]
  },
  {
   "cell_type": "code",
   "execution_count": null,
   "id": "ce80a94d-4a12-434f-822d-832a8eb9ad55",
   "metadata": {},
   "outputs": [],
   "source": [
    "ex_n_step"
   ]
  },
  {
   "cell_type": "code",
   "execution_count": null,
   "id": "09ff61e3-8f4c-43e4-866c-24d6862940dd",
   "metadata": {},
   "outputs": [],
   "source": [
    "ray.shutdown()"
   ]
  },
  {
   "cell_type": "code",
   "execution_count": null,
   "id": "da8221cc-7e05-4466-b295-b4686862bec1",
   "metadata": {},
   "outputs": [],
   "source": [
    "end_time = datetime.datetime.now()"
   ]
  },
  {
   "cell_type": "code",
   "execution_count": null,
   "id": "c474a3ac-6730-49f0-892a-98663c564421",
   "metadata": {},
   "outputs": [],
   "source": [
    "time_difference = (end_time - start_time).total_seconds()"
   ]
  },
  {
   "cell_type": "code",
   "execution_count": null,
   "id": "e9f61d26-4fce-4f08-93c9-5cb74fd8dfec",
   "metadata": {},
   "outputs": [],
   "source": [
    "print(f\"Experiment runtime was {time_difference} seconds\")"
   ]
  },
  {
   "cell_type": "code",
   "execution_count": null,
   "id": "681ffcdc-d2ad-47c6-8de0-09c2d2bf59d5",
   "metadata": {},
   "outputs": [],
   "source": []
  }
 ],
 "metadata": {
  "kernelspec": {
   "display_name": "TF-CPU",
   "language": "python",
   "name": "tf-cpu"
  },
  "language_info": {
   "codemirror_mode": {
    "name": "ipython",
    "version": 3
   },
   "file_extension": ".py",
   "mimetype": "text/x-python",
   "name": "python",
   "nbconvert_exporter": "python",
   "pygments_lexer": "ipython3",
   "version": "3.10.12"
  }
 },
 "nbformat": 4,
 "nbformat_minor": 5
}
